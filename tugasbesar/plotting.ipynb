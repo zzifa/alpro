# Import the necessary packages and modules
import matplotlib.pyplot as plt
#plt.style.use('style/sci.mplstyle')
import numpy as np


# Open and read the file gr.dos
x, y= np.loadtxt('coordinates.dat', unpack=True)

    
# Create figure object
plt.figure()
# Plot the DOS, in which the Fermi energy shifts to zero
plt.plot(x,y, color='blue')

# Add the x and y-axis labels
plt.xlabel('Kinetic Energy')
plt.ylabel('Potential Energy')
plt.title('Energy Transfer')


# Save the figure to the pdf file
plt.savefig('plot-dos.pdf', bbox_inches='tight')
