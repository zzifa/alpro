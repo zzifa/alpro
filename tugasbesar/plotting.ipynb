# Import the necessary packages and modules
import matplotlib.pyplot as plt
#plt.style.use('style/sci.mplstyle')
import numpy as np


# Open and read the file gr.dos
a, x, y, z= np.loadtxt('coordinates.dat', unpack=True)

    
# Create figure object
plt.figure()
# x for EK, y for EP, z for EM
plt.plot(x, color='blue')
plt.plot(y, color='orange')
plt.plot(z, color='maroon')

# Add the x and y-axis labels
plt.xlabel('Time Stamp (s)')
plt.ylabel('EK, EP, EM (Joule)')
plt.title('Energy Transfer')

# Save the figure to the pdf file
plt.savefig('plot-dos.pdf', bbox_inches='tight')
